{
 "cells": [
  {
   "cell_type": "code",
   "execution_count": 2,
   "metadata": {},
   "outputs": [],
   "source": [
    "from geopy.geocoders import Nominatim"
   ]
  },
  {
   "cell_type": "code",
   "execution_count": null,
   "metadata": {},
   "outputs": [],
   "source": [
    "geolocator = Nominatim(user_agent='Buddy')\n",
    "\n",
    "# Load crime data\n",
    "# location = geolocator.geocode(\"175 5th Avenue NYC\")\n",
    "# coordinates = (location.latitude, location.longitude)"
   ]
  },
  {
   "cell_type": "code",
   "execution_count": 1,
   "metadata": {},
   "outputs": [],
   "source": [
    "def point_danger(coordinates):\n",
    "    danger = 0\n",
    "    for crime in crimes:\n",
    "        d = (coordinates[0] - d[0])**2 + (coordinates[1] - d[1])**2\n",
    "        # 364320 feet per degree (double check this)\n",
    "        # if d < (5280 * 5 / 364320)**2: # only check crimes that occured within 5 miles\n",
    "        d = 1 / d # inverse square distance penalizes closer crimes\n",
    "        danger += d\n",
    "    return danger"
   ]
  },
  {
   "cell_type": "code",
   "execution_count": null,
   "metadata": {},
   "outputs": [],
   "source": [
    "def route_danger(route):\n",
    "    danger = 0\n",
    "    for point in route:\n",
    "        danger += point_danger(point)\n",
    "    return danger"
   ]
  }
 ],
 "metadata": {
  "kernelspec": {
   "display_name": "Python 3",
   "language": "python",
   "name": "python3"
  },
  "language_info": {
   "codemirror_mode": {
    "name": "ipython",
    "version": 3
   },
   "file_extension": ".py",
   "mimetype": "text/x-python",
   "name": "python",
   "nbconvert_exporter": "python",
   "pygments_lexer": "ipython3",
   "version": "3.6.7"
  }
 },
 "nbformat": 4,
 "nbformat_minor": 2
}
